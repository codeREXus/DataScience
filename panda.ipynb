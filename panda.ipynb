{
 "cells": [
  {
   "cell_type": "code",
   "execution_count": 2,
   "id": "125b25b9",
   "metadata": {},
   "outputs": [],
   "source": [
    "import pandas as pd\n",
    "import numpy as np"
   ]
  },
  {
   "cell_type": "code",
   "execution_count": 3,
   "id": "dcaddf83",
   "metadata": {},
   "outputs": [
    {
     "name": "stdout",
     "output_type": "stream",
     "text": [
      "2.1.4\n",
      "0    1\n",
      "1    2\n",
      "2    3\n",
      "3    4\n",
      "4    5\n",
      "dtype: int64\n"
     ]
    }
   ],
   "source": [
    "print(pd.__version__)\n",
    "lst=[1,2,3,4,5]\n",
    "s=pd.Series(lst)\n",
    "print(s)"
   ]
  },
  {
   "cell_type": "code",
   "execution_count": 4,
   "id": "f62b8e34",
   "metadata": {},
   "outputs": [
    {
     "name": "stdout",
     "output_type": "stream",
     "text": [
      "0    1\n",
      "1    2\n",
      "2    3\n",
      "3    4\n",
      "4    5\n",
      "dtype: int32\n",
      "1    Anant\n",
      "2    Manoj\n",
      "3      GFG\n",
      "dtype: object\n"
     ]
    }
   ],
   "source": [
    "#throuogh np array\n",
    "s1=pd.Series(np.array(lst))\n",
    "print(s1)\n",
    "\n",
    "# pandas series have two attributes data and index as list\n",
    "\n",
    "s2=pd.Series(data=[\"Anant\",\"Manoj\",\"GFG\"], index=[1,2,3,])\n",
    "print(s2)"
   ]
  },
  {
   "cell_type": "code",
   "execution_count": 5,
   "id": "995c2dd3",
   "metadata": {},
   "outputs": [
    {
     "name": "stdout",
     "output_type": "stream",
     "text": [
      "0    4\n",
      "0    4\n",
      "0    4\n",
      "1    5\n",
      "1    5\n",
      "1    5\n",
      "dtype: int64\n",
      "----------\n",
      "0    4\n",
      "1    4\n",
      "2    4\n",
      "3    4\n",
      "4    4\n",
      "5    5\n",
      "6    5\n",
      "7    6\n",
      "dtype: int64\n",
      "----------\n",
      "Anant\n"
     ]
    },
    {
     "data": {
      "text/plain": [
       "3"
      ]
     },
     "execution_count": 5,
     "metadata": {},
     "output_type": "execute_result"
    }
   ],
   "source": [
    "print(pd.Series([4,5]).repeat(3))\n",
    "print(\"-\"*10)\n",
    "s3=pd.Series([ 4,5,6]).repeat([5,2,1]).reset_index(drop=True)\n",
    "print(s3)\n",
    "print(\"-\"*10)\n",
    "print(s2[1])\n",
    "len(s2)"
   ]
  },
  {
   "cell_type": "code",
   "execution_count": 6,
   "id": "67976c0c",
   "metadata": {},
   "outputs": [
    {
     "name": "stdout",
     "output_type": "stream",
     "text": [
      "0    4\n",
      "1    4\n",
      "2    4\n",
      "3    4\n",
      "4    4\n",
      "5    5\n",
      "6    5\n",
      "dtype: int64\n"
     ]
    }
   ],
   "source": [
    "print(s3[:-1])"
   ]
  },
  {
   "cell_type": "code",
   "execution_count": 7,
   "id": "7079ee61",
   "metadata": {},
   "outputs": [
    {
     "name": "stdout",
     "output_type": "stream",
     "text": [
      "min     1\n",
      "max     5\n",
      "sum    15\n",
      "dtype: int64\n",
      "----------\n",
      "0    1\n",
      "1    2\n",
      "2    3\n",
      "3    4\n",
      "4    5\n",
      "dtype: int32\n"
     ]
    }
   ],
   "source": [
    "print(s1.agg([\"min\",\"max\",\"sum\"]))\n",
    "print(\"-\"*10)\n",
    "print(s1.abs())"
   ]
  },
  {
   "cell_type": "code",
   "execution_count": 8,
   "id": "5850348f",
   "metadata": {},
   "outputs": [
    {
     "name": "stdout",
     "output_type": "stream",
     "text": [
      "2    334\n",
      "4     23\n",
      "dtype: int64\n"
     ]
    }
   ],
   "source": [
    "s4=pd.Series([-2,334,-12,23,2],[1,2,3,4,5])\n",
    "print(s4.nlargest(2,keep='first'))"
   ]
  },
  {
   "cell_type": "code",
   "execution_count": 9,
   "id": "7e605817",
   "metadata": {},
   "outputs": [
    {
     "name": "stdout",
     "output_type": "stream",
     "text": [
      "0    1\n",
      "1    2\n",
      "2    3\n",
      "3    4\n",
      "4    5\n",
      "dtype: int32\n",
      "----------\n",
      "0    4\n",
      "1    4\n",
      "2    4\n",
      "3    4\n",
      "4    4\n",
      "5    5\n",
      "6    5\n",
      "7    6\n",
      "dtype: int64\n"
     ]
    }
   ],
   "source": [
    "print(s1)\n",
    "print(\"-\"*10)\n",
    "print(s3)"
   ]
  },
  {
   "cell_type": "code",
   "execution_count": 10,
   "id": "286586be",
   "metadata": {},
   "outputs": [
    {
     "data": {
      "text/plain": [
       "0    1\n",
       "0    4\n",
       "1    2\n",
       "1    4\n",
       "2    3\n",
       "2    4\n",
       "3    4\n",
       "3    4\n",
       "4    5\n",
       "4    4\n",
       "5    5\n",
       "6    5\n",
       "7    6\n",
       "dtype: int64"
      ]
     },
     "execution_count": 10,
     "metadata": {},
     "output_type": "execute_result"
    }
   ],
   "source": [
    "s5=s1._append(s3).sort_index()\n",
    "s5"
   ]
  },
  {
   "cell_type": "code",
   "execution_count": 11,
   "id": "f36d7947",
   "metadata": {},
   "outputs": [
    {
     "data": {
      "text/plain": [
       "0    1.0\n",
       "0    4.0\n",
       "1    2.0\n",
       "1    4.0\n",
       "2    3.0\n",
       "2    4.0\n",
       "3    4.0\n",
       "3    4.0\n",
       "4    5.0\n",
       "4    4.0\n",
       "5    5.0\n",
       "6    5.0\n",
       "7    6.0\n",
       "dtype: float64"
      ]
     },
     "execution_count": 11,
     "metadata": {},
     "output_type": "execute_result"
    }
   ],
   "source": [
    "# to change data type use Astype function\n",
    "s6=s5.astype('float')\n",
    "s6"
   ]
  },
  {
   "cell_type": "code",
   "execution_count": 12,
   "id": "6f568f0e",
   "metadata": {},
   "outputs": [
    {
     "name": "stdout",
     "output_type": "stream",
     "text": [
      "0    4\n",
      "1    4\n",
      "2    4\n",
      "3    4\n",
      "3    4\n",
      "4    4\n",
      "dtype: int64\n"
     ]
    }
   ],
   "source": [
    "#between function\n",
    "#returns true if the values are between the number\n",
    "print(s5[s5.between(3,5,inclusive='neither')])"
   ]
  },
  {
   "cell_type": "code",
   "execution_count": 13,
   "id": "385f3f37",
   "metadata": {},
   "outputs": [
    {
     "name": "stdout",
     "output_type": "stream",
     "text": [
      "0        ABHGFJDC\n",
      "1        XYZ ANDA\n",
      "2          GFOR G\n",
      "3      HELLO WORK\n",
      "dtype: object\n",
      "--------------------\n",
      "0        abhgfjdc\n",
      "1        xyz anda\n",
      "2          gfor g\n",
      "3      hello work\n",
      "dtype: object\n",
      "\n",
      "--------------------\n",
      "0    False\n",
      "1    False\n",
      "2    False\n",
      "3     True\n",
      "dtype: bool\n",
      "\n",
      "--------------------\n",
      "0        [ABhgfjdC]\n",
      "1    [    xyz anda]\n",
      "2         [GF, r G]\n",
      "3    [hell,  w, rk]\n",
      "dtype: object\n",
      "\n",
      "--------------------\n",
      "0      ABhgfjdC\n",
      "1      xyz anda\n",
      "2        GFor G\n",
      "3    hello work\n",
      "dtype: object\n",
      "--------------------\n"
     ]
    }
   ],
   "source": [
    "csr=pd.Series(['ABhgfjdC','    xyz anda','GFor G',\"hello work\"])\n",
    "\n",
    "print(csr.str.upper())\n",
    "print(\"-\"*20)\n",
    "\n",
    "print(csr.str.lower(),end='\\n\\n')\n",
    "print(\"-\"*20)\n",
    "\n",
    "print(csr.str.contains('l'),end='\\n\\n')\n",
    "print(\"-\"*20)\n",
    "\n",
    "print(csr.str.split('o'),end='\\n\\n')\n",
    "print(\"-\"*20)\n",
    "\n",
    "print(csr.str.strip())\n",
    "print(\"-\"*20)"
   ]
  },
  {
   "cell_type": "code",
   "execution_count": 14,
   "id": "76d8a708",
   "metadata": {},
   "outputs": [
    {
     "data": {
      "text/plain": [
       "pandas.core.series.Series"
      ]
     },
     "execution_count": 14,
     "metadata": {},
     "output_type": "execute_result"
    }
   ],
   "source": [
    "type(csr)"
   ]
  },
  {
   "cell_type": "code",
   "execution_count": 15,
   "id": "b9118eb4",
   "metadata": {},
   "outputs": [
    {
     "data": {
      "text/plain": [
       "0    [lala, llo]\n",
       "1            kor\n",
       "dtype: object"
      ]
     },
     "execution_count": 15,
     "metadata": {},
     "output_type": "execute_result"
    }
   ],
   "source": [
    "pd.Series([['lala','llo'],'kor'])"
   ]
  },
  {
   "cell_type": "code",
   "execution_count": 16,
   "id": "e19ae282",
   "metadata": {},
   "outputs": [
    {
     "name": "stdout",
     "output_type": "stream",
     "text": [
      "0    ABhgfjdC\n",
      "dtype: object\n",
      "\n",
      "0         BhgfjdC\n",
      "1        xyz anda\n",
      "2          GFor G\n",
      "3      hello work\n",
      "dtype: object\n"
     ]
    }
   ],
   "source": [
    "print(csr[csr.str.contains('A')] ,end='\\n\\n')\n",
    "print(csr.str.replace('A',\"  \"))"
   ]
  },
  {
   "cell_type": "code",
   "execution_count": 17,
   "id": "6fda5325",
   "metadata": {},
   "outputs": [
    {
     "name": "stdout",
     "output_type": "stream",
     "text": [
      "0    0\n",
      "1    2\n",
      "2    0\n",
      "3    0\n",
      "dtype: int64\n"
     ]
    }
   ],
   "source": [
    "print(csr.str.count('a'))"
   ]
  },
  {
   "cell_type": "code",
   "execution_count": 18,
   "id": "ab76c8c5",
   "metadata": {},
   "outputs": [
    {
     "name": "stdout",
     "output_type": "stream",
     "text": [
      "0    0\n",
      "1    0\n",
      "2    0\n",
      "3    3\n",
      "dtype: int64\n"
     ]
    }
   ],
   "source": [
    "print(csr.str.find('l')+1)"
   ]
  },
  {
   "cell_type": "code",
   "execution_count": 19,
   "id": "872e69b3",
   "metadata": {},
   "outputs": [
    {
     "data": {
      "text/plain": [
       "['ABhgfjdC', 'xyz anda', 'GFor G', 'hello work']"
      ]
     },
     "execution_count": 19,
     "metadata": {},
     "output_type": "execute_result"
    }
   ],
   "source": [
    "#to convert panda series into list again use .to_list()\n",
    "csr.str.strip().to_list()"
   ]
  },
  {
   "cell_type": "markdown",
   "id": "0e8d6714",
   "metadata": {},
   "source": [
    "# Panda DataFrame"
   ]
  },
  {
   "cell_type": "code",
   "execution_count": 20,
   "id": "ab6cef8d",
   "metadata": {},
   "outputs": [
    {
     "name": "stdout",
     "output_type": "stream",
     "text": [
      "   0\n",
      "0  a\n",
      "1  b\n",
      "2  c\n",
      "3  d\n"
     ]
    },
    {
     "data": {
      "text/html": [
       "<div>\n",
       "<style scoped>\n",
       "    .dataframe tbody tr th:only-of-type {\n",
       "        vertical-align: middle;\n",
       "    }\n",
       "\n",
       "    .dataframe tbody tr th {\n",
       "        vertical-align: top;\n",
       "    }\n",
       "\n",
       "    .dataframe thead th {\n",
       "        text-align: right;\n",
       "    }\n",
       "</style>\n",
       "<table border=\"1\" class=\"dataframe\">\n",
       "  <thead>\n",
       "    <tr style=\"text-align: right;\">\n",
       "      <th></th>\n",
       "      <th>0</th>\n",
       "      <th>1</th>\n",
       "    </tr>\n",
       "  </thead>\n",
       "  <tbody>\n",
       "    <tr>\n",
       "      <th>0</th>\n",
       "      <td>A</td>\n",
       "      <td>a</td>\n",
       "    </tr>\n",
       "    <tr>\n",
       "      <th>1</th>\n",
       "      <td>B</td>\n",
       "      <td>b</td>\n",
       "    </tr>\n",
       "    <tr>\n",
       "      <th>2</th>\n",
       "      <td>C</td>\n",
       "      <td>c</td>\n",
       "    </tr>\n",
       "  </tbody>\n",
       "</table>\n",
       "</div>"
      ],
      "text/plain": [
       "   0  1\n",
       "0  A  a\n",
       "1  B  b\n",
       "2  C  c"
      ]
     },
     "execution_count": 20,
     "metadata": {},
     "output_type": "execute_result"
    }
   ],
   "source": [
    "lst=['a','b','c','d']\n",
    "lst1=[['A','a'],['B','b'],['C','c']]\n",
    "print(pd.DataFrame(lst))\n",
    "pd.DataFrame(lst1)"
   ]
  },
  {
   "cell_type": "code",
   "execution_count": 21,
   "id": "73a9191c",
   "metadata": {},
   "outputs": [
    {
     "data": {
      "text/html": [
       "<div>\n",
       "<style scoped>\n",
       "    .dataframe tbody tr th:only-of-type {\n",
       "        vertical-align: middle;\n",
       "    }\n",
       "\n",
       "    .dataframe tbody tr th {\n",
       "        vertical-align: top;\n",
       "    }\n",
       "\n",
       "    .dataframe thead th {\n",
       "        text-align: right;\n",
       "    }\n",
       "</style>\n",
       "<table border=\"1\" class=\"dataframe\">\n",
       "  <thead>\n",
       "    <tr style=\"text-align: right;\">\n",
       "      <th></th>\n",
       "      <th>Name</th>\n",
       "      <th>Age</th>\n",
       "    </tr>\n",
       "  </thead>\n",
       "  <tbody>\n",
       "    <tr>\n",
       "      <th>0</th>\n",
       "      <td>a</td>\n",
       "      <td>12</td>\n",
       "    </tr>\n",
       "    <tr>\n",
       "      <th>1</th>\n",
       "      <td>b</td>\n",
       "      <td>32</td>\n",
       "    </tr>\n",
       "    <tr>\n",
       "      <th>2</th>\n",
       "      <td>c</td>\n",
       "      <td>45</td>\n",
       "    </tr>\n",
       "    <tr>\n",
       "      <th>3</th>\n",
       "      <td>d</td>\n",
       "      <td>23</td>\n",
       "    </tr>\n",
       "    <tr>\n",
       "      <th>4</th>\n",
       "      <td>e</td>\n",
       "      <td>11</td>\n",
       "    </tr>\n",
       "  </tbody>\n",
       "</table>\n",
       "</div>"
      ],
      "text/plain": [
       "  Name  Age\n",
       "0    a   12\n",
       "1    b   32\n",
       "2    c   45\n",
       "3    d   23\n",
       "4    e   11"
      ]
     },
     "execution_count": 21,
     "metadata": {},
     "output_type": "execute_result"
    }
   ],
   "source": [
    "data={'Name':['a','b','c','d','e'], 'Age':[12,32,45,23,11]}\n",
    "pd.DataFrame(data)"
   ]
  },
  {
   "cell_type": "code",
   "execution_count": 133,
   "id": "32dd0a71",
   "metadata": {},
   "outputs": [
    {
     "data": {
      "text/html": [
       "<div>\n",
       "<style scoped>\n",
       "    .dataframe tbody tr th:only-of-type {\n",
       "        vertical-align: middle;\n",
       "    }\n",
       "\n",
       "    .dataframe tbody tr th {\n",
       "        vertical-align: top;\n",
       "    }\n",
       "\n",
       "    .dataframe thead th {\n",
       "        text-align: right;\n",
       "    }\n",
       "</style>\n",
       "<table border=\"1\" class=\"dataframe\">\n",
       "  <thead>\n",
       "    <tr style=\"text-align: right;\">\n",
       "      <th></th>\n",
       "      <th>Name</th>\n",
       "      <th>City</th>\n",
       "    </tr>\n",
       "  </thead>\n",
       "  <tbody>\n",
       "    <tr>\n",
       "      <th>0</th>\n",
       "      <td>Ram</td>\n",
       "      <td>Allahabad</td>\n",
       "    </tr>\n",
       "    <tr>\n",
       "      <th>1</th>\n",
       "      <td>Anil</td>\n",
       "      <td>Kanpur</td>\n",
       "    </tr>\n",
       "    <tr>\n",
       "      <th>2</th>\n",
       "      <td>Balam</td>\n",
       "      <td>Mirzapur</td>\n",
       "    </tr>\n",
       "    <tr>\n",
       "      <th>3</th>\n",
       "      <td>kid</td>\n",
       "      <td>NCR</td>\n",
       "    </tr>\n",
       "  </tbody>\n",
       "</table>\n",
       "</div>"
      ],
      "text/plain": [
       "    Name       City\n",
       "0    Ram  Allahabad\n",
       "1   Anil     Kanpur\n",
       "2  Balam   Mirzapur\n",
       "3    kid        NCR"
      ]
     },
     "execution_count": 133,
     "metadata": {},
     "output_type": "execute_result"
    }
   ],
   "source": [
    "data={\n",
    "    'Name':['Ram','Anil','Balam','kid'],\n",
    "    'Age' :[23,23,22,12],\n",
    "    'City':['Allahabad','Kanpur','Mirzapur','NCR'],\n",
    "    'Qualification':['B.tech','B.tech','MCA','4th Grade']\n",
    "}\n",
    "D1=pd.DataFrame(data)\n",
    "D1[['Name','City']]"
   ]
  },
  {
   "cell_type": "markdown",
   "id": "dd699cec",
   "metadata": {},
   "source": [
    "# loc() & illoc()"
   ]
  },
  {
   "cell_type": "code",
   "execution_count": 134,
   "id": "e810e779",
   "metadata": {},
   "outputs": [
    {
     "data": {
      "text/html": [
       "<div>\n",
       "<style scoped>\n",
       "    .dataframe tbody tr th:only-of-type {\n",
       "        vertical-align: middle;\n",
       "    }\n",
       "\n",
       "    .dataframe tbody tr th {\n",
       "        vertical-align: top;\n",
       "    }\n",
       "\n",
       "    .dataframe thead th {\n",
       "        text-align: right;\n",
       "    }\n",
       "</style>\n",
       "<table border=\"1\" class=\"dataframe\">\n",
       "  <thead>\n",
       "    <tr style=\"text-align: right;\">\n",
       "      <th></th>\n",
       "      <th>Name</th>\n",
       "      <th>Age</th>\n",
       "      <th>City</th>\n",
       "      <th>Qualification</th>\n",
       "    </tr>\n",
       "  </thead>\n",
       "  <tbody>\n",
       "    <tr>\n",
       "      <th>1</th>\n",
       "      <td>Anil</td>\n",
       "      <td>23</td>\n",
       "      <td>Kanpur</td>\n",
       "      <td>B.tech</td>\n",
       "    </tr>\n",
       "    <tr>\n",
       "      <th>2</th>\n",
       "      <td>Balam</td>\n",
       "      <td>22</td>\n",
       "      <td>Mirzapur</td>\n",
       "      <td>MCA</td>\n",
       "    </tr>\n",
       "    <tr>\n",
       "      <th>3</th>\n",
       "      <td>kid</td>\n",
       "      <td>12</td>\n",
       "      <td>NCR</td>\n",
       "      <td>4th Grade</td>\n",
       "    </tr>\n",
       "  </tbody>\n",
       "</table>\n",
       "</div>"
      ],
      "text/plain": [
       "    Name  Age      City Qualification\n",
       "1   Anil   23    Kanpur        B.tech\n",
       "2  Balam   22  Mirzapur           MCA\n",
       "3    kid   12       NCR     4th Grade"
      ]
     },
     "execution_count": 134,
     "metadata": {},
     "output_type": "execute_result"
    }
   ],
   "source": [
    "D1.loc[1:3]"
   ]
  },
  {
   "cell_type": "code",
   "execution_count": 135,
   "id": "802f3dad",
   "metadata": {},
   "outputs": [
    {
     "data": {
      "text/html": [
       "<div>\n",
       "<style scoped>\n",
       "    .dataframe tbody tr th:only-of-type {\n",
       "        vertical-align: middle;\n",
       "    }\n",
       "\n",
       "    .dataframe tbody tr th {\n",
       "        vertical-align: top;\n",
       "    }\n",
       "\n",
       "    .dataframe thead th {\n",
       "        text-align: right;\n",
       "    }\n",
       "</style>\n",
       "<table border=\"1\" class=\"dataframe\">\n",
       "  <thead>\n",
       "    <tr style=\"text-align: right;\">\n",
       "      <th></th>\n",
       "      <th>Name</th>\n",
       "      <th>Age</th>\n",
       "      <th>City</th>\n",
       "      <th>Qualification</th>\n",
       "    </tr>\n",
       "  </thead>\n",
       "  <tbody>\n",
       "    <tr>\n",
       "      <th>2</th>\n",
       "      <td>Balam</td>\n",
       "      <td>22</td>\n",
       "      <td>Mirzapur</td>\n",
       "      <td>MCA</td>\n",
       "    </tr>\n",
       "    <tr>\n",
       "      <th>3</th>\n",
       "      <td>kid</td>\n",
       "      <td>12</td>\n",
       "      <td>NCR</td>\n",
       "      <td>4th Grade</td>\n",
       "    </tr>\n",
       "  </tbody>\n",
       "</table>\n",
       "</div>"
      ],
      "text/plain": [
       "    Name  Age      City Qualification\n",
       "2  Balam   22  Mirzapur           MCA\n",
       "3    kid   12       NCR     4th Grade"
      ]
     },
     "execution_count": 135,
     "metadata": {},
     "output_type": "execute_result"
    }
   ],
   "source": [
    "D1.loc[2:]"
   ]
  },
  {
   "cell_type": "code",
   "execution_count": 136,
   "id": "882241ad",
   "metadata": {},
   "outputs": [
    {
     "data": {
      "text/html": [
       "<div>\n",
       "<style scoped>\n",
       "    .dataframe tbody tr th:only-of-type {\n",
       "        vertical-align: middle;\n",
       "    }\n",
       "\n",
       "    .dataframe tbody tr th {\n",
       "        vertical-align: top;\n",
       "    }\n",
       "\n",
       "    .dataframe thead th {\n",
       "        text-align: right;\n",
       "    }\n",
       "</style>\n",
       "<table border=\"1\" class=\"dataframe\">\n",
       "  <thead>\n",
       "    <tr style=\"text-align: right;\">\n",
       "      <th></th>\n",
       "      <th>Name</th>\n",
       "      <th>Age</th>\n",
       "      <th>City</th>\n",
       "    </tr>\n",
       "  </thead>\n",
       "  <tbody>\n",
       "    <tr>\n",
       "      <th>0</th>\n",
       "      <td>Ram</td>\n",
       "      <td>23</td>\n",
       "      <td>Allahabad</td>\n",
       "    </tr>\n",
       "    <tr>\n",
       "      <th>1</th>\n",
       "      <td>Anil</td>\n",
       "      <td>23</td>\n",
       "      <td>Kanpur</td>\n",
       "    </tr>\n",
       "    <tr>\n",
       "      <th>2</th>\n",
       "      <td>Balam</td>\n",
       "      <td>22</td>\n",
       "      <td>Mirzapur</td>\n",
       "    </tr>\n",
       "    <tr>\n",
       "      <th>3</th>\n",
       "      <td>kid</td>\n",
       "      <td>12</td>\n",
       "      <td>NCR</td>\n",
       "    </tr>\n",
       "  </tbody>\n",
       "</table>\n",
       "</div>"
      ],
      "text/plain": [
       "    Name  Age       City\n",
       "0    Ram   23  Allahabad\n",
       "1   Anil   23     Kanpur\n",
       "2  Balam   22   Mirzapur\n",
       "3    kid   12        NCR"
      ]
     },
     "execution_count": 136,
     "metadata": {},
     "output_type": "execute_result"
    }
   ],
   "source": [
    "D1.loc[0:3 , 'Name':'City']"
   ]
  },
  {
   "cell_type": "code",
   "execution_count": 137,
   "id": "71a96c9d",
   "metadata": {},
   "outputs": [
    {
     "data": {
      "text/html": [
       "<div>\n",
       "<style scoped>\n",
       "    .dataframe tbody tr th:only-of-type {\n",
       "        vertical-align: middle;\n",
       "    }\n",
       "\n",
       "    .dataframe tbody tr th {\n",
       "        vertical-align: top;\n",
       "    }\n",
       "\n",
       "    .dataframe thead th {\n",
       "        text-align: right;\n",
       "    }\n",
       "</style>\n",
       "<table border=\"1\" class=\"dataframe\">\n",
       "  <thead>\n",
       "    <tr style=\"text-align: right;\">\n",
       "      <th></th>\n",
       "      <th>Name</th>\n",
       "      <th>Age</th>\n",
       "      <th>City</th>\n",
       "    </tr>\n",
       "  </thead>\n",
       "  <tbody>\n",
       "    <tr>\n",
       "      <th>0</th>\n",
       "      <td>Ram</td>\n",
       "      <td>23</td>\n",
       "      <td>Allahabad</td>\n",
       "    </tr>\n",
       "    <tr>\n",
       "      <th>1</th>\n",
       "      <td>Anil</td>\n",
       "      <td>23</td>\n",
       "      <td>Kanpur</td>\n",
       "    </tr>\n",
       "    <tr>\n",
       "      <th>2</th>\n",
       "      <td>Balam</td>\n",
       "      <td>22</td>\n",
       "      <td>Mirzapur</td>\n",
       "    </tr>\n",
       "  </tbody>\n",
       "</table>\n",
       "</div>"
      ],
      "text/plain": [
       "    Name  Age       City\n",
       "0    Ram   23  Allahabad\n",
       "1   Anil   23     Kanpur\n",
       "2  Balam   22   Mirzapur"
      ]
     },
     "execution_count": 137,
     "metadata": {},
     "output_type": "execute_result"
    }
   ],
   "source": [
    "D1.loc[D1['Age']>20,'Name':'City']"
   ]
  },
  {
   "cell_type": "code",
   "execution_count": 138,
   "id": "c8da1407",
   "metadata": {},
   "outputs": [
    {
     "data": {
      "text/html": [
       "<div>\n",
       "<style scoped>\n",
       "    .dataframe tbody tr th:only-of-type {\n",
       "        vertical-align: middle;\n",
       "    }\n",
       "\n",
       "    .dataframe tbody tr th {\n",
       "        vertical-align: top;\n",
       "    }\n",
       "\n",
       "    .dataframe thead th {\n",
       "        text-align: right;\n",
       "    }\n",
       "</style>\n",
       "<table border=\"1\" class=\"dataframe\">\n",
       "  <thead>\n",
       "    <tr style=\"text-align: right;\">\n",
       "      <th></th>\n",
       "      <th>City</th>\n",
       "      <th>Qualification</th>\n",
       "    </tr>\n",
       "  </thead>\n",
       "  <tbody>\n",
       "    <tr>\n",
       "      <th>1</th>\n",
       "      <td>Kanpur</td>\n",
       "      <td>B.tech</td>\n",
       "    </tr>\n",
       "    <tr>\n",
       "      <th>2</th>\n",
       "      <td>Mirzapur</td>\n",
       "      <td>MCA</td>\n",
       "    </tr>\n",
       "  </tbody>\n",
       "</table>\n",
       "</div>"
      ],
      "text/plain": [
       "       City Qualification\n",
       "1    Kanpur        B.tech\n",
       "2  Mirzapur           MCA"
      ]
     },
     "execution_count": 138,
     "metadata": {},
     "output_type": "execute_result"
    }
   ],
   "source": [
    "D1.iloc[1:3,2:]\n",
    "#integer based / upper bound excluded"
   ]
  },
  {
   "cell_type": "code",
   "execution_count": 139,
   "id": "2cbcb25c",
   "metadata": {},
   "outputs": [
    {
     "data": {
      "text/html": [
       "<div>\n",
       "<style scoped>\n",
       "    .dataframe tbody tr th:only-of-type {\n",
       "        vertical-align: middle;\n",
       "    }\n",
       "\n",
       "    .dataframe tbody tr th {\n",
       "        vertical-align: top;\n",
       "    }\n",
       "\n",
       "    .dataframe thead th {\n",
       "        text-align: right;\n",
       "    }\n",
       "</style>\n",
       "<table border=\"1\" class=\"dataframe\">\n",
       "  <thead>\n",
       "    <tr style=\"text-align: right;\">\n",
       "      <th></th>\n",
       "      <th>Name</th>\n",
       "      <th>Age</th>\n",
       "      <th>City</th>\n",
       "      <th>Qualification</th>\n",
       "    </tr>\n",
       "  </thead>\n",
       "  <tbody>\n",
       "    <tr>\n",
       "      <th>1</th>\n",
       "      <td>Anil</td>\n",
       "      <td>23</td>\n",
       "      <td>Kanpur</td>\n",
       "      <td>B.tech</td>\n",
       "    </tr>\n",
       "    <tr>\n",
       "      <th>3</th>\n",
       "      <td>kid</td>\n",
       "      <td>12</td>\n",
       "      <td>NCR</td>\n",
       "      <td>4th Grade</td>\n",
       "    </tr>\n",
       "  </tbody>\n",
       "</table>\n",
       "</div>"
      ],
      "text/plain": [
       "   Name  Age    City Qualification\n",
       "1  Anil   23  Kanpur        B.tech\n",
       "3   kid   12     NCR     4th Grade"
      ]
     },
     "execution_count": 139,
     "metadata": {},
     "output_type": "execute_result"
    }
   ],
   "source": [
    "D1.iloc[[1,3]]\n",
    "#difference is comma is used instead of colon"
   ]
  },
  {
   "cell_type": "markdown",
   "id": "c64e24f6",
   "metadata": {},
   "source": [
    "# using Conditions"
   ]
  },
  {
   "cell_type": "code",
   "execution_count": 140,
   "id": "41004529",
   "metadata": {},
   "outputs": [
    {
     "data": {
      "text/html": [
       "<div>\n",
       "<style scoped>\n",
       "    .dataframe tbody tr th:only-of-type {\n",
       "        vertical-align: middle;\n",
       "    }\n",
       "\n",
       "    .dataframe tbody tr th {\n",
       "        vertical-align: top;\n",
       "    }\n",
       "\n",
       "    .dataframe thead th {\n",
       "        text-align: right;\n",
       "    }\n",
       "</style>\n",
       "<table border=\"1\" class=\"dataframe\">\n",
       "  <thead>\n",
       "    <tr style=\"text-align: right;\">\n",
       "      <th></th>\n",
       "      <th>Name</th>\n",
       "      <th>Age</th>\n",
       "      <th>City</th>\n",
       "      <th>Qualification</th>\n",
       "    </tr>\n",
       "  </thead>\n",
       "  <tbody>\n",
       "    <tr>\n",
       "      <th>0</th>\n",
       "      <td>Ram</td>\n",
       "      <td>23</td>\n",
       "      <td>Allahabad</td>\n",
       "      <td>B.tech</td>\n",
       "    </tr>\n",
       "    <tr>\n",
       "      <th>1</th>\n",
       "      <td>Anil</td>\n",
       "      <td>23</td>\n",
       "      <td>Kanpur</td>\n",
       "      <td>B.tech</td>\n",
       "    </tr>\n",
       "    <tr>\n",
       "      <th>2</th>\n",
       "      <td>Balam</td>\n",
       "      <td>22</td>\n",
       "      <td>Mirzapur</td>\n",
       "      <td>MCA</td>\n",
       "    </tr>\n",
       "  </tbody>\n",
       "</table>\n",
       "</div>"
      ],
      "text/plain": [
       "    Name  Age       City Qualification\n",
       "0    Ram   23  Allahabad        B.tech\n",
       "1   Anil   23     Kanpur        B.tech\n",
       "2  Balam   22   Mirzapur           MCA"
      ]
     },
     "execution_count": 140,
     "metadata": {},
     "output_type": "execute_result"
    }
   ],
   "source": [
    "D1[D1['Age']>20]"
   ]
  },
  {
   "cell_type": "markdown",
   "id": "3255ace5",
   "metadata": {},
   "source": [
    "# ADDING columns"
   ]
  },
  {
   "cell_type": "code",
   "execution_count": 141,
   "id": "1b4f3063",
   "metadata": {},
   "outputs": [
    {
     "data": {
      "text/html": [
       "<div>\n",
       "<style scoped>\n",
       "    .dataframe tbody tr th:only-of-type {\n",
       "        vertical-align: middle;\n",
       "    }\n",
       "\n",
       "    .dataframe tbody tr th {\n",
       "        vertical-align: top;\n",
       "    }\n",
       "\n",
       "    .dataframe thead th {\n",
       "        text-align: right;\n",
       "    }\n",
       "</style>\n",
       "<table border=\"1\" class=\"dataframe\">\n",
       "  <thead>\n",
       "    <tr style=\"text-align: right;\">\n",
       "      <th></th>\n",
       "      <th>Name</th>\n",
       "      <th>Age</th>\n",
       "      <th>City</th>\n",
       "      <th>Qualification</th>\n",
       "      <th>Branch</th>\n",
       "    </tr>\n",
       "  </thead>\n",
       "  <tbody>\n",
       "    <tr>\n",
       "      <th>0</th>\n",
       "      <td>Ram</td>\n",
       "      <td>23</td>\n",
       "      <td>Allahabad</td>\n",
       "      <td>B.tech</td>\n",
       "      <td>AI</td>\n",
       "    </tr>\n",
       "    <tr>\n",
       "      <th>1</th>\n",
       "      <td>Anil</td>\n",
       "      <td>23</td>\n",
       "      <td>Kanpur</td>\n",
       "      <td>B.tech</td>\n",
       "      <td>IT</td>\n",
       "    </tr>\n",
       "    <tr>\n",
       "      <th>2</th>\n",
       "      <td>Balam</td>\n",
       "      <td>22</td>\n",
       "      <td>Mirzapur</td>\n",
       "      <td>MCA</td>\n",
       "      <td>CSE</td>\n",
       "    </tr>\n",
       "    <tr>\n",
       "      <th>3</th>\n",
       "      <td>kid</td>\n",
       "      <td>12</td>\n",
       "      <td>NCR</td>\n",
       "      <td>4th Grade</td>\n",
       "      <td>AI</td>\n",
       "    </tr>\n",
       "  </tbody>\n",
       "</table>\n",
       "</div>"
      ],
      "text/plain": [
       "    Name  Age       City Qualification Branch\n",
       "0    Ram   23  Allahabad        B.tech     AI\n",
       "1   Anil   23     Kanpur        B.tech     IT\n",
       "2  Balam   22   Mirzapur           MCA    CSE\n",
       "3    kid   12        NCR     4th Grade     AI"
      ]
     },
     "execution_count": 141,
     "metadata": {},
     "output_type": "execute_result"
    }
   ],
   "source": [
    "# BY LIST\n",
    "lst=['AI','IT','CSE','AI']\n",
    "D1['Branch']=lst\n",
    "D1"
   ]
  },
  {
   "cell_type": "code",
   "execution_count": 142,
   "id": "5c709f7b",
   "metadata": {},
   "outputs": [
    {
     "data": {
      "text/html": [
       "<div>\n",
       "<style scoped>\n",
       "    .dataframe tbody tr th:only-of-type {\n",
       "        vertical-align: middle;\n",
       "    }\n",
       "\n",
       "    .dataframe tbody tr th {\n",
       "        vertical-align: top;\n",
       "    }\n",
       "\n",
       "    .dataframe thead th {\n",
       "        text-align: right;\n",
       "    }\n",
       "</style>\n",
       "<table border=\"1\" class=\"dataframe\">\n",
       "  <thead>\n",
       "    <tr style=\"text-align: right;\">\n",
       "      <th></th>\n",
       "      <th>Name</th>\n",
       "      <th>Age</th>\n",
       "      <th>City</th>\n",
       "      <th>Qualification</th>\n",
       "      <th>Branch</th>\n",
       "      <th>SGPA</th>\n",
       "    </tr>\n",
       "  </thead>\n",
       "  <tbody>\n",
       "    <tr>\n",
       "      <th>0</th>\n",
       "      <td>Ram</td>\n",
       "      <td>23</td>\n",
       "      <td>Allahabad</td>\n",
       "      <td>B.tech</td>\n",
       "      <td>AI</td>\n",
       "      <td>8.9</td>\n",
       "    </tr>\n",
       "    <tr>\n",
       "      <th>1</th>\n",
       "      <td>Anil</td>\n",
       "      <td>23</td>\n",
       "      <td>Kanpur</td>\n",
       "      <td>B.tech</td>\n",
       "      <td>IT</td>\n",
       "      <td>7.2</td>\n",
       "    </tr>\n",
       "    <tr>\n",
       "      <th>2</th>\n",
       "      <td>Balam</td>\n",
       "      <td>22</td>\n",
       "      <td>Mirzapur</td>\n",
       "      <td>MCA</td>\n",
       "      <td>CSE</td>\n",
       "      <td>6.5</td>\n",
       "    </tr>\n",
       "    <tr>\n",
       "      <th>3</th>\n",
       "      <td>kid</td>\n",
       "      <td>12</td>\n",
       "      <td>NCR</td>\n",
       "      <td>4th Grade</td>\n",
       "      <td>AI</td>\n",
       "      <td>7.8</td>\n",
       "    </tr>\n",
       "  </tbody>\n",
       "</table>\n",
       "</div>"
      ],
      "text/plain": [
       "    Name  Age       City Qualification Branch  SGPA\n",
       "0    Ram   23  Allahabad        B.tech     AI   8.9\n",
       "1   Anil   23     Kanpur        B.tech     IT   7.2\n",
       "2  Balam   22   Mirzapur           MCA    CSE   6.5\n",
       "3    kid   12        NCR     4th Grade     AI   7.8"
      ]
     },
     "execution_count": 142,
     "metadata": {},
     "output_type": "execute_result"
    }
   ],
   "source": [
    "# BY Series\n",
    "lst=[8.9,7.2,6.5,7.8]\n",
    "sr=pd.Series(lst)\n",
    "D1['SGPA']=sr\n",
    "D1"
   ]
  },
  {
   "cell_type": "code",
   "execution_count": 143,
   "id": "a0cbf131",
   "metadata": {},
   "outputs": [
    {
     "data": {
      "text/html": [
       "<div>\n",
       "<style scoped>\n",
       "    .dataframe tbody tr th:only-of-type {\n",
       "        vertical-align: middle;\n",
       "    }\n",
       "\n",
       "    .dataframe tbody tr th {\n",
       "        vertical-align: top;\n",
       "    }\n",
       "\n",
       "    .dataframe thead th {\n",
       "        text-align: right;\n",
       "    }\n",
       "</style>\n",
       "<table border=\"1\" class=\"dataframe\">\n",
       "  <thead>\n",
       "    <tr style=\"text-align: right;\">\n",
       "      <th></th>\n",
       "      <th>Name</th>\n",
       "      <th>Age</th>\n",
       "      <th>City</th>\n",
       "      <th>Qualification</th>\n",
       "      <th>Branch</th>\n",
       "      <th>SGPA</th>\n",
       "      <th>Year of Birth</th>\n",
       "    </tr>\n",
       "  </thead>\n",
       "  <tbody>\n",
       "    <tr>\n",
       "      <th>0</th>\n",
       "      <td>Ram</td>\n",
       "      <td>23</td>\n",
       "      <td>Allahabad</td>\n",
       "      <td>B.tech</td>\n",
       "      <td>AI</td>\n",
       "      <td>8.9</td>\n",
       "      <td>2001</td>\n",
       "    </tr>\n",
       "    <tr>\n",
       "      <th>1</th>\n",
       "      <td>Anil</td>\n",
       "      <td>23</td>\n",
       "      <td>Kanpur</td>\n",
       "      <td>B.tech</td>\n",
       "      <td>IT</td>\n",
       "      <td>7.2</td>\n",
       "      <td>2001</td>\n",
       "    </tr>\n",
       "    <tr>\n",
       "      <th>2</th>\n",
       "      <td>Balam</td>\n",
       "      <td>22</td>\n",
       "      <td>Mirzapur</td>\n",
       "      <td>MCA</td>\n",
       "      <td>CSE</td>\n",
       "      <td>6.5</td>\n",
       "      <td>2002</td>\n",
       "    </tr>\n",
       "    <tr>\n",
       "      <th>3</th>\n",
       "      <td>kid</td>\n",
       "      <td>12</td>\n",
       "      <td>NCR</td>\n",
       "      <td>4th Grade</td>\n",
       "      <td>AI</td>\n",
       "      <td>7.8</td>\n",
       "      <td>2012</td>\n",
       "    </tr>\n",
       "  </tbody>\n",
       "</table>\n",
       "</div>"
      ],
      "text/plain": [
       "    Name  Age       City Qualification Branch  SGPA  Year of Birth\n",
       "0    Ram   23  Allahabad        B.tech     AI   8.9           2001\n",
       "1   Anil   23     Kanpur        B.tech     IT   7.2           2001\n",
       "2  Balam   22   Mirzapur           MCA    CSE   6.5           2002\n",
       "3    kid   12        NCR     4th Grade     AI   7.8           2012"
      ]
     },
     "execution_count": 143,
     "metadata": {},
     "output_type": "execute_result"
    }
   ],
   "source": [
    "# BY existing column\n",
    "D1['Year of Birth']=2024-D1['Age']\n",
    "D1"
   ]
  },
  {
   "cell_type": "markdown",
   "id": "453a9015",
   "metadata": {},
   "source": [
    "# DELETE colums"
   ]
  },
  {
   "cell_type": "code",
   "execution_count": 159,
   "id": "54c7c3e7",
   "metadata": {},
   "outputs": [
    {
     "data": {
      "text/html": [
       "<div>\n",
       "<style scoped>\n",
       "    .dataframe tbody tr th:only-of-type {\n",
       "        vertical-align: middle;\n",
       "    }\n",
       "\n",
       "    .dataframe tbody tr th {\n",
       "        vertical-align: top;\n",
       "    }\n",
       "\n",
       "    .dataframe thead th {\n",
       "        text-align: right;\n",
       "    }\n",
       "</style>\n",
       "<table border=\"1\" class=\"dataframe\">\n",
       "  <thead>\n",
       "    <tr style=\"text-align: right;\">\n",
       "      <th></th>\n",
       "      <th>b</th>\n",
       "    </tr>\n",
       "  </thead>\n",
       "  <tbody>\n",
       "    <tr>\n",
       "      <th>0</th>\n",
       "      <td>2</td>\n",
       "    </tr>\n",
       "    <tr>\n",
       "      <th>1</th>\n",
       "      <td>4</td>\n",
       "    </tr>\n",
       "  </tbody>\n",
       "</table>\n",
       "</div>"
      ],
      "text/plain": [
       "   b\n",
       "0  2\n",
       "1  4"
      ]
     },
     "execution_count": 159,
     "metadata": {},
     "output_type": "execute_result"
    }
   ],
   "source": [
    "D1.drop('SGPA',axis='columns')\n",
    "#can use 1 for column and 0 for row"
   ]
  },
  {
   "cell_type": "code",
   "execution_count": 145,
   "id": "8a18eff9",
   "metadata": {},
   "outputs": [
    {
     "data": {
      "text/html": [
       "<div>\n",
       "<style scoped>\n",
       "    .dataframe tbody tr th:only-of-type {\n",
       "        vertical-align: middle;\n",
       "    }\n",
       "\n",
       "    .dataframe tbody tr th {\n",
       "        vertical-align: top;\n",
       "    }\n",
       "\n",
       "    .dataframe thead th {\n",
       "        text-align: right;\n",
       "    }\n",
       "</style>\n",
       "<table border=\"1\" class=\"dataframe\">\n",
       "  <thead>\n",
       "    <tr style=\"text-align: right;\">\n",
       "      <th></th>\n",
       "      <th>Name</th>\n",
       "      <th>Age</th>\n",
       "      <th>City</th>\n",
       "      <th>Qualification</th>\n",
       "      <th>SGPA</th>\n",
       "      <th>Year of Birth</th>\n",
       "    </tr>\n",
       "  </thead>\n",
       "  <tbody>\n",
       "    <tr>\n",
       "      <th>0</th>\n",
       "      <td>Ram</td>\n",
       "      <td>23</td>\n",
       "      <td>Allahabad</td>\n",
       "      <td>B.tech</td>\n",
       "      <td>8.9</td>\n",
       "      <td>2001</td>\n",
       "    </tr>\n",
       "    <tr>\n",
       "      <th>1</th>\n",
       "      <td>Anil</td>\n",
       "      <td>23</td>\n",
       "      <td>Kanpur</td>\n",
       "      <td>B.tech</td>\n",
       "      <td>7.2</td>\n",
       "      <td>2001</td>\n",
       "    </tr>\n",
       "    <tr>\n",
       "      <th>2</th>\n",
       "      <td>Balam</td>\n",
       "      <td>22</td>\n",
       "      <td>Mirzapur</td>\n",
       "      <td>MCA</td>\n",
       "      <td>6.5</td>\n",
       "      <td>2002</td>\n",
       "    </tr>\n",
       "    <tr>\n",
       "      <th>3</th>\n",
       "      <td>kid</td>\n",
       "      <td>12</td>\n",
       "      <td>NCR</td>\n",
       "      <td>4th Grade</td>\n",
       "      <td>7.8</td>\n",
       "      <td>2012</td>\n",
       "    </tr>\n",
       "  </tbody>\n",
       "</table>\n",
       "</div>"
      ],
      "text/plain": [
       "    Name  Age       City Qualification  SGPA  Year of Birth\n",
       "0    Ram   23  Allahabad        B.tech   8.9           2001\n",
       "1   Anil   23     Kanpur        B.tech   7.2           2001\n",
       "2  Balam   22   Mirzapur           MCA   6.5           2002\n",
       "3    kid   12        NCR     4th Grade   7.8           2012"
      ]
     },
     "execution_count": 145,
     "metadata": {},
     "output_type": "execute_result"
    }
   ],
   "source": [
    "del D1['Branch']\n",
    "D1"
   ]
  },
  {
   "cell_type": "markdown",
   "id": "476c90ce",
   "metadata": {},
   "source": [
    "# TO POP a column"
   ]
  },
  {
   "cell_type": "code",
   "execution_count": 146,
   "id": "1bd14305",
   "metadata": {},
   "outputs": [
    {
     "name": "stdout",
     "output_type": "stream",
     "text": [
      "--------------------------------------------------\n",
      "    Name  Age       City Qualification  SGPA\n",
      "0    Ram   23  Allahabad        B.tech   8.9\n",
      "1   Anil   23     Kanpur        B.tech   7.2\n",
      "2  Balam   22   Mirzapur           MCA   6.5\n",
      "3    kid   12        NCR     4th Grade   7.8\n"
     ]
    }
   ],
   "source": [
    "D1.pop('Year of Birth')\n",
    "print(\"-\"*50)\n",
    "print(D1)"
   ]
  },
  {
   "cell_type": "markdown",
   "id": "2849817f",
   "metadata": {},
   "source": [
    "# append rows to a data frame\n"
   ]
  },
  {
   "cell_type": "code",
   "execution_count": 164,
   "id": "a21fc259",
   "metadata": {},
   "outputs": [],
   "source": [
    "d1=pd.DataFrame([[1,2],[3,4]],columns=['a','b'])\n",
    "d2=pd.DataFrame([[5,6],[7,8]],columns=['a','b'])\n",
    "\n",
    "data=pd.concat([d2,d1]).reset_index(drop=True)"
   ]
  },
  {
   "cell_type": "code",
   "execution_count": 165,
   "id": "a6306fa6",
   "metadata": {},
   "outputs": [
    {
     "data": {
      "text/html": [
       "<div>\n",
       "<style scoped>\n",
       "    .dataframe tbody tr th:only-of-type {\n",
       "        vertical-align: middle;\n",
       "    }\n",
       "\n",
       "    .dataframe tbody tr th {\n",
       "        vertical-align: top;\n",
       "    }\n",
       "\n",
       "    .dataframe thead th {\n",
       "        text-align: right;\n",
       "    }\n",
       "</style>\n",
       "<table border=\"1\" class=\"dataframe\">\n",
       "  <thead>\n",
       "    <tr style=\"text-align: right;\">\n",
       "      <th></th>\n",
       "      <th>0</th>\n",
       "      <th>1</th>\n",
       "      <th>2</th>\n",
       "      <th>3</th>\n",
       "    </tr>\n",
       "  </thead>\n",
       "  <tbody>\n",
       "    <tr>\n",
       "      <th>a</th>\n",
       "      <td>5</td>\n",
       "      <td>7</td>\n",
       "      <td>1</td>\n",
       "      <td>3</td>\n",
       "    </tr>\n",
       "    <tr>\n",
       "      <th>b</th>\n",
       "      <td>6</td>\n",
       "      <td>8</td>\n",
       "      <td>2</td>\n",
       "      <td>4</td>\n",
       "    </tr>\n",
       "  </tbody>\n",
       "</table>\n",
       "</div>"
      ],
      "text/plain": [
       "   0  1  2  3\n",
       "a  5  7  1  3\n",
       "b  6  8  2  4"
      ]
     },
     "execution_count": 165,
     "metadata": {},
     "output_type": "execute_result"
    }
   ],
   "source": [
    "data.T"
   ]
  },
  {
   "cell_type": "code",
   "execution_count": 168,
   "id": "22ca1d9c",
   "metadata": {},
   "outputs": [
    {
     "data": {
      "text/plain": [
       "[RangeIndex(start=0, stop=4, step=1),\n",
       " Index(['Name', 'Age', 'City', 'Qualification', 'SGPA'], dtype='object')]"
      ]
     },
     "execution_count": 168,
     "metadata": {},
     "output_type": "execute_result"
    }
   ],
   "source": [
    "D1.axes"
   ]
  },
  {
   "cell_type": "code",
   "execution_count": 169,
   "id": "d6103b6a",
   "metadata": {},
   "outputs": [
    {
     "data": {
      "text/plain": [
       "2"
      ]
     },
     "execution_count": 169,
     "metadata": {},
     "output_type": "execute_result"
    }
   ],
   "source": [
    "D1.ndim\n"
   ]
  },
  {
   "cell_type": "code",
   "execution_count": 171,
   "id": "3f71740d",
   "metadata": {},
   "outputs": [
    {
     "data": {
      "text/plain": [
       "Name              object\n",
       "Age                int64\n",
       "City              object\n",
       "Qualification     object\n",
       "SGPA             float64\n",
       "dtype: object"
      ]
     },
     "execution_count": 171,
     "metadata": {},
     "output_type": "execute_result"
    }
   ],
   "source": [
    "D1.dtypes"
   ]
  },
  {
   "cell_type": "code",
   "execution_count": 174,
   "id": "69133b84",
   "metadata": {},
   "outputs": [
    {
     "data": {
      "text/html": [
       "<div>\n",
       "<style scoped>\n",
       "    .dataframe tbody tr th:only-of-type {\n",
       "        vertical-align: middle;\n",
       "    }\n",
       "\n",
       "    .dataframe tbody tr th {\n",
       "        vertical-align: top;\n",
       "    }\n",
       "\n",
       "    .dataframe thead th {\n",
       "        text-align: right;\n",
       "    }\n",
       "</style>\n",
       "<table border=\"1\" class=\"dataframe\">\n",
       "  <thead>\n",
       "    <tr style=\"text-align: right;\">\n",
       "      <th></th>\n",
       "      <th>Name</th>\n",
       "      <th>Age</th>\n",
       "      <th>City</th>\n",
       "      <th>Qualification</th>\n",
       "      <th>SGPA</th>\n",
       "    </tr>\n",
       "  </thead>\n",
       "  <tbody>\n",
       "    <tr>\n",
       "      <th>0</th>\n",
       "      <td>Ram</td>\n",
       "      <td>23</td>\n",
       "      <td>Allahabad</td>\n",
       "      <td>B.tech</td>\n",
       "      <td>8.9</td>\n",
       "    </tr>\n",
       "    <tr>\n",
       "      <th>1</th>\n",
       "      <td>Anil</td>\n",
       "      <td>23</td>\n",
       "      <td>Kanpur</td>\n",
       "      <td>B.tech</td>\n",
       "      <td>7.2</td>\n",
       "    </tr>\n",
       "    <tr>\n",
       "      <th>2</th>\n",
       "      <td>Balam</td>\n",
       "      <td>22</td>\n",
       "      <td>Mirzapur</td>\n",
       "      <td>MCA</td>\n",
       "      <td>6.5</td>\n",
       "    </tr>\n",
       "    <tr>\n",
       "      <th>3</th>\n",
       "      <td>kid</td>\n",
       "      <td>12</td>\n",
       "      <td>NCR</td>\n",
       "      <td>4th Grade</td>\n",
       "      <td>7.8</td>\n",
       "    </tr>\n",
       "  </tbody>\n",
       "</table>\n",
       "</div>"
      ],
      "text/plain": [
       "    Name  Age       City Qualification  SGPA\n",
       "0    Ram   23  Allahabad        B.tech   8.9\n",
       "1   Anil   23     Kanpur        B.tech   7.2\n",
       "2  Balam   22   Mirzapur           MCA   6.5\n",
       "3    kid   12        NCR     4th Grade   7.8"
      ]
     },
     "execution_count": 174,
     "metadata": {},
     "output_type": "execute_result"
    }
   ],
   "source": [
    "D1.head()"
   ]
  },
  {
   "cell_type": "code",
   "execution_count": 175,
   "id": "c0d7b795",
   "metadata": {},
   "outputs": [
    {
     "data": {
      "text/html": [
       "<div>\n",
       "<style scoped>\n",
       "    .dataframe tbody tr th:only-of-type {\n",
       "        vertical-align: middle;\n",
       "    }\n",
       "\n",
       "    .dataframe tbody tr th {\n",
       "        vertical-align: top;\n",
       "    }\n",
       "\n",
       "    .dataframe thead th {\n",
       "        text-align: right;\n",
       "    }\n",
       "</style>\n",
       "<table border=\"1\" class=\"dataframe\">\n",
       "  <thead>\n",
       "    <tr style=\"text-align: right;\">\n",
       "      <th></th>\n",
       "      <th>Name</th>\n",
       "      <th>Age</th>\n",
       "      <th>City</th>\n",
       "      <th>Qualification</th>\n",
       "      <th>SGPA</th>\n",
       "    </tr>\n",
       "  </thead>\n",
       "  <tbody>\n",
       "    <tr>\n",
       "      <th>0</th>\n",
       "      <td>Ram</td>\n",
       "      <td>23</td>\n",
       "      <td>Allahabad</td>\n",
       "      <td>B.tech</td>\n",
       "      <td>8.9</td>\n",
       "    </tr>\n",
       "    <tr>\n",
       "      <th>1</th>\n",
       "      <td>Anil</td>\n",
       "      <td>23</td>\n",
       "      <td>Kanpur</td>\n",
       "      <td>B.tech</td>\n",
       "      <td>7.2</td>\n",
       "    </tr>\n",
       "    <tr>\n",
       "      <th>2</th>\n",
       "      <td>Balam</td>\n",
       "      <td>22</td>\n",
       "      <td>Mirzapur</td>\n",
       "      <td>MCA</td>\n",
       "      <td>6.5</td>\n",
       "    </tr>\n",
       "  </tbody>\n",
       "</table>\n",
       "</div>"
      ],
      "text/plain": [
       "    Name  Age       City Qualification  SGPA\n",
       "0    Ram   23  Allahabad        B.tech   8.9\n",
       "1   Anil   23     Kanpur        B.tech   7.2\n",
       "2  Balam   22   Mirzapur           MCA   6.5"
      ]
     },
     "execution_count": 175,
     "metadata": {},
     "output_type": "execute_result"
    }
   ],
   "source": [
    "D1.head(3)"
   ]
  },
  {
   "cell_type": "code",
   "execution_count": 213,
   "id": "0b887260",
   "metadata": {},
   "outputs": [
    {
     "data": {
      "text/html": [
       "<div>\n",
       "<style scoped>\n",
       "    .dataframe tbody tr th:only-of-type {\n",
       "        vertical-align: middle;\n",
       "    }\n",
       "\n",
       "    .dataframe tbody tr th {\n",
       "        vertical-align: top;\n",
       "    }\n",
       "\n",
       "    .dataframe thead th {\n",
       "        text-align: right;\n",
       "    }\n",
       "</style>\n",
       "<table border=\"1\" class=\"dataframe\">\n",
       "  <thead>\n",
       "    <tr style=\"text-align: right;\">\n",
       "      <th></th>\n",
       "      <th>Name</th>\n",
       "      <th>Age</th>\n",
       "      <th>City</th>\n",
       "      <th>Qualification</th>\n",
       "      <th>SGPA</th>\n",
       "    </tr>\n",
       "  </thead>\n",
       "  <tbody>\n",
       "    <tr>\n",
       "      <th>0</th>\n",
       "      <td>Ram</td>\n",
       "      <td>23</td>\n",
       "      <td>Allahabad</td>\n",
       "      <td>B.tech</td>\n",
       "      <td>8.9</td>\n",
       "    </tr>\n",
       "    <tr>\n",
       "      <th>1</th>\n",
       "      <td>Anil</td>\n",
       "      <td>23</td>\n",
       "      <td>Kanpur</td>\n",
       "      <td>B.tech</td>\n",
       "      <td>7.2</td>\n",
       "    </tr>\n",
       "    <tr>\n",
       "      <th>2</th>\n",
       "      <td>Balam</td>\n",
       "      <td>22</td>\n",
       "      <td>Mirzapur</td>\n",
       "      <td>MCA</td>\n",
       "      <td>6.5</td>\n",
       "    </tr>\n",
       "    <tr>\n",
       "      <th>3</th>\n",
       "      <td>kid</td>\n",
       "      <td>12</td>\n",
       "      <td>NCR</td>\n",
       "      <td>4th Grade</td>\n",
       "      <td>7.8</td>\n",
       "    </tr>\n",
       "  </tbody>\n",
       "</table>\n",
       "</div>"
      ],
      "text/plain": [
       "    Name  Age       City Qualification  SGPA\n",
       "0    Ram   23  Allahabad        B.tech   8.9\n",
       "1   Anil   23     Kanpur        B.tech   7.2\n",
       "2  Balam   22   Mirzapur           MCA   6.5\n",
       "3    kid   12        NCR     4th Grade   7.8"
      ]
     },
     "execution_count": 213,
     "metadata": {},
     "output_type": "execute_result"
    }
   ],
   "source": [
    "D1.tail()"
   ]
  },
  {
   "cell_type": "markdown",
   "id": "4c8ff0c0",
   "metadata": {},
   "source": [
    " ## Satistical Operations\n",
    " "
   ]
  },
  {
   "cell_type": "code",
   "execution_count": 185,
   "id": "405a2688",
   "metadata": {},
   "outputs": [
    {
     "data": {
      "text/plain": [
       "Age     80.0\n",
       "SGPA    30.4\n",
       "dtype: float64"
      ]
     },
     "execution_count": 185,
     "metadata": {},
     "output_type": "execute_result"
    }
   ],
   "source": [
    "D1.sum(numeric_only=True)"
   ]
  },
  {
   "cell_type": "code",
   "execution_count": 187,
   "id": "fa555dda",
   "metadata": {},
   "outputs": [
    {
     "data": {
      "text/plain": [
       "Name                        RamAnilBalamkid\n",
       "Age                                      80\n",
       "City             AllahabadKanpurMirzapurNCR\n",
       "Qualification      B.techB.techMCA4th Grade\n",
       "SGPA                                   30.4\n",
       "dtype: object"
      ]
     },
     "execution_count": 187,
     "metadata": {},
     "output_type": "execute_result"
    }
   ],
   "source": [
    "D1.sum()"
   ]
  },
  {
   "cell_type": "code",
   "execution_count": 190,
   "id": "2cbf508d",
   "metadata": {},
   "outputs": [
    {
     "data": {
      "text/plain": [
       "Age     20.0\n",
       "SGPA     7.6\n",
       "dtype: float64"
      ]
     },
     "execution_count": 190,
     "metadata": {},
     "output_type": "execute_result"
    }
   ],
   "source": [
    "D1.mean(numeric_only=True)"
   ]
  },
  {
   "cell_type": "code",
   "execution_count": 191,
   "id": "1ed8c32a",
   "metadata": {},
   "outputs": [
    {
     "data": {
      "text/plain": [
       "Age     22.5\n",
       "SGPA     7.5\n",
       "dtype: float64"
      ]
     },
     "execution_count": 191,
     "metadata": {},
     "output_type": "execute_result"
    }
   ],
   "source": [
    "D1.median(numeric_only=True)"
   ]
  },
  {
   "cell_type": "code",
   "execution_count": 195,
   "id": "886e91a5",
   "metadata": {},
   "outputs": [
    {
     "data": {
      "text/plain": [
       "Age     28.666667\n",
       "SGPA     1.033333\n",
       "dtype: float64"
      ]
     },
     "execution_count": 195,
     "metadata": {},
     "output_type": "execute_result"
    }
   ],
   "source": [
    "D1.var(numeric_only=True)"
   ]
  },
  {
   "cell_type": "code",
   "execution_count": 196,
   "id": "12d41ef7",
   "metadata": {},
   "outputs": [
    {
     "data": {
      "text/plain": [
       "Name             kid\n",
       "Age               23\n",
       "City             NCR\n",
       "Qualification    MCA\n",
       "SGPA             8.9\n",
       "dtype: object"
      ]
     },
     "execution_count": 196,
     "metadata": {},
     "output_type": "execute_result"
    }
   ],
   "source": [
    "D1.max()"
   ]
  },
  {
   "cell_type": "code",
   "execution_count": 197,
   "id": "5eb296fa",
   "metadata": {},
   "outputs": [
    {
     "data": {
      "text/plain": [
       "Name                  Anil\n",
       "Age                     12\n",
       "City             Allahabad\n",
       "Qualification    4th Grade\n",
       "SGPA                   6.5\n",
       "dtype: object"
      ]
     },
     "execution_count": 197,
     "metadata": {},
     "output_type": "execute_result"
    }
   ],
   "source": [
    "D1.min()"
   ]
  },
  {
   "cell_type": "code",
   "execution_count": 199,
   "id": "0b7ffadd",
   "metadata": {},
   "outputs": [
    {
     "data": {
      "text/plain": [
       "Age     5.354126\n",
       "SGPA    1.016530\n",
       "dtype: float64"
      ]
     },
     "execution_count": 199,
     "metadata": {},
     "output_type": "execute_result"
    }
   ],
   "source": [
    "D1.std(numeric_only=True)"
   ]
  },
  {
   "cell_type": "markdown",
   "id": "db9e6c55",
   "metadata": {},
   "source": [
    "# Describe Func()"
   ]
  },
  {
   "cell_type": "code",
   "execution_count": 210,
   "id": "4b692541",
   "metadata": {},
   "outputs": [
    {
     "data": {
      "text/html": [
       "<div>\n",
       "<style scoped>\n",
       "    .dataframe tbody tr th:only-of-type {\n",
       "        vertical-align: middle;\n",
       "    }\n",
       "\n",
       "    .dataframe tbody tr th {\n",
       "        vertical-align: top;\n",
       "    }\n",
       "\n",
       "    .dataframe thead th {\n",
       "        text-align: right;\n",
       "    }\n",
       "</style>\n",
       "<table border=\"1\" class=\"dataframe\">\n",
       "  <thead>\n",
       "    <tr style=\"text-align: right;\">\n",
       "      <th></th>\n",
       "      <th>Age</th>\n",
       "      <th>SGPA</th>\n",
       "    </tr>\n",
       "  </thead>\n",
       "  <tbody>\n",
       "    <tr>\n",
       "      <th>count</th>\n",
       "      <td>4.000000</td>\n",
       "      <td>4.00000</td>\n",
       "    </tr>\n",
       "    <tr>\n",
       "      <th>mean</th>\n",
       "      <td>20.000000</td>\n",
       "      <td>7.60000</td>\n",
       "    </tr>\n",
       "    <tr>\n",
       "      <th>std</th>\n",
       "      <td>5.354126</td>\n",
       "      <td>1.01653</td>\n",
       "    </tr>\n",
       "    <tr>\n",
       "      <th>min</th>\n",
       "      <td>12.000000</td>\n",
       "      <td>6.50000</td>\n",
       "    </tr>\n",
       "    <tr>\n",
       "      <th>25%</th>\n",
       "      <td>19.500000</td>\n",
       "      <td>7.02500</td>\n",
       "    </tr>\n",
       "    <tr>\n",
       "      <th>50%</th>\n",
       "      <td>22.500000</td>\n",
       "      <td>7.50000</td>\n",
       "    </tr>\n",
       "    <tr>\n",
       "      <th>75%</th>\n",
       "      <td>23.000000</td>\n",
       "      <td>8.07500</td>\n",
       "    </tr>\n",
       "    <tr>\n",
       "      <th>max</th>\n",
       "      <td>23.000000</td>\n",
       "      <td>8.90000</td>\n",
       "    </tr>\n",
       "  </tbody>\n",
       "</table>\n",
       "</div>"
      ],
      "text/plain": [
       "             Age     SGPA\n",
       "count   4.000000  4.00000\n",
       "mean   20.000000  7.60000\n",
       "std     5.354126  1.01653\n",
       "min    12.000000  6.50000\n",
       "25%    19.500000  7.02500\n",
       "50%    22.500000  7.50000\n",
       "75%    23.000000  8.07500\n",
       "max    23.000000  8.90000"
      ]
     },
     "execution_count": 210,
     "metadata": {},
     "output_type": "execute_result"
    }
   ],
   "source": [
    "D1.describe()"
   ]
  },
  {
   "cell_type": "code",
   "execution_count": 209,
   "id": "d9f490cb",
   "metadata": {},
   "outputs": [
    {
     "data": {
      "text/html": [
       "<div>\n",
       "<style scoped>\n",
       "    .dataframe tbody tr th:only-of-type {\n",
       "        vertical-align: middle;\n",
       "    }\n",
       "\n",
       "    .dataframe tbody tr th {\n",
       "        vertical-align: top;\n",
       "    }\n",
       "\n",
       "    .dataframe thead th {\n",
       "        text-align: right;\n",
       "    }\n",
       "</style>\n",
       "<table border=\"1\" class=\"dataframe\">\n",
       "  <thead>\n",
       "    <tr style=\"text-align: right;\">\n",
       "      <th></th>\n",
       "      <th>Name</th>\n",
       "      <th>City</th>\n",
       "      <th>Qualification</th>\n",
       "    </tr>\n",
       "  </thead>\n",
       "  <tbody>\n",
       "    <tr>\n",
       "      <th>count</th>\n",
       "      <td>4</td>\n",
       "      <td>4</td>\n",
       "      <td>4</td>\n",
       "    </tr>\n",
       "    <tr>\n",
       "      <th>unique</th>\n",
       "      <td>4</td>\n",
       "      <td>4</td>\n",
       "      <td>3</td>\n",
       "    </tr>\n",
       "    <tr>\n",
       "      <th>top</th>\n",
       "      <td>Ram</td>\n",
       "      <td>Allahabad</td>\n",
       "      <td>B.tech</td>\n",
       "    </tr>\n",
       "    <tr>\n",
       "      <th>freq</th>\n",
       "      <td>1</td>\n",
       "      <td>1</td>\n",
       "      <td>2</td>\n",
       "    </tr>\n",
       "  </tbody>\n",
       "</table>\n",
       "</div>"
      ],
      "text/plain": [
       "       Name       City Qualification\n",
       "count     4          4             4\n",
       "unique    4          4             3\n",
       "top     Ram  Allahabad        B.tech\n",
       "freq      1          1             2"
      ]
     },
     "execution_count": 209,
     "metadata": {},
     "output_type": "execute_result"
    }
   ],
   "source": [
    "D1.describe(include=[object])"
   ]
  },
  {
   "cell_type": "code",
   "execution_count": 203,
   "id": "9c14b157",
   "metadata": {},
   "outputs": [
    {
     "data": {
      "text/html": [
       "<div>\n",
       "<style scoped>\n",
       "    .dataframe tbody tr th:only-of-type {\n",
       "        vertical-align: middle;\n",
       "    }\n",
       "\n",
       "    .dataframe tbody tr th {\n",
       "        vertical-align: top;\n",
       "    }\n",
       "\n",
       "    .dataframe thead th {\n",
       "        text-align: right;\n",
       "    }\n",
       "</style>\n",
       "<table border=\"1\" class=\"dataframe\">\n",
       "  <thead>\n",
       "    <tr style=\"text-align: right;\">\n",
       "      <th></th>\n",
       "      <th>Name</th>\n",
       "      <th>Age</th>\n",
       "      <th>City</th>\n",
       "      <th>Qualification</th>\n",
       "      <th>SGPA</th>\n",
       "    </tr>\n",
       "  </thead>\n",
       "  <tbody>\n",
       "    <tr>\n",
       "      <th>count</th>\n",
       "      <td>4</td>\n",
       "      <td>4.000000</td>\n",
       "      <td>4</td>\n",
       "      <td>4</td>\n",
       "      <td>4.00000</td>\n",
       "    </tr>\n",
       "    <tr>\n",
       "      <th>unique</th>\n",
       "      <td>4</td>\n",
       "      <td>NaN</td>\n",
       "      <td>4</td>\n",
       "      <td>3</td>\n",
       "      <td>NaN</td>\n",
       "    </tr>\n",
       "    <tr>\n",
       "      <th>top</th>\n",
       "      <td>Ram</td>\n",
       "      <td>NaN</td>\n",
       "      <td>Allahabad</td>\n",
       "      <td>B.tech</td>\n",
       "      <td>NaN</td>\n",
       "    </tr>\n",
       "    <tr>\n",
       "      <th>freq</th>\n",
       "      <td>1</td>\n",
       "      <td>NaN</td>\n",
       "      <td>1</td>\n",
       "      <td>2</td>\n",
       "      <td>NaN</td>\n",
       "    </tr>\n",
       "    <tr>\n",
       "      <th>mean</th>\n",
       "      <td>NaN</td>\n",
       "      <td>20.000000</td>\n",
       "      <td>NaN</td>\n",
       "      <td>NaN</td>\n",
       "      <td>7.60000</td>\n",
       "    </tr>\n",
       "    <tr>\n",
       "      <th>std</th>\n",
       "      <td>NaN</td>\n",
       "      <td>5.354126</td>\n",
       "      <td>NaN</td>\n",
       "      <td>NaN</td>\n",
       "      <td>1.01653</td>\n",
       "    </tr>\n",
       "    <tr>\n",
       "      <th>min</th>\n",
       "      <td>NaN</td>\n",
       "      <td>12.000000</td>\n",
       "      <td>NaN</td>\n",
       "      <td>NaN</td>\n",
       "      <td>6.50000</td>\n",
       "    </tr>\n",
       "    <tr>\n",
       "      <th>25%</th>\n",
       "      <td>NaN</td>\n",
       "      <td>19.500000</td>\n",
       "      <td>NaN</td>\n",
       "      <td>NaN</td>\n",
       "      <td>7.02500</td>\n",
       "    </tr>\n",
       "    <tr>\n",
       "      <th>50%</th>\n",
       "      <td>NaN</td>\n",
       "      <td>22.500000</td>\n",
       "      <td>NaN</td>\n",
       "      <td>NaN</td>\n",
       "      <td>7.50000</td>\n",
       "    </tr>\n",
       "    <tr>\n",
       "      <th>75%</th>\n",
       "      <td>NaN</td>\n",
       "      <td>23.000000</td>\n",
       "      <td>NaN</td>\n",
       "      <td>NaN</td>\n",
       "      <td>8.07500</td>\n",
       "    </tr>\n",
       "    <tr>\n",
       "      <th>max</th>\n",
       "      <td>NaN</td>\n",
       "      <td>23.000000</td>\n",
       "      <td>NaN</td>\n",
       "      <td>NaN</td>\n",
       "      <td>8.90000</td>\n",
       "    </tr>\n",
       "  </tbody>\n",
       "</table>\n",
       "</div>"
      ],
      "text/plain": [
       "       Name        Age       City Qualification     SGPA\n",
       "count     4   4.000000          4             4  4.00000\n",
       "unique    4        NaN          4             3      NaN\n",
       "top     Ram        NaN  Allahabad        B.tech      NaN\n",
       "freq      1        NaN          1             2      NaN\n",
       "mean    NaN  20.000000        NaN           NaN  7.60000\n",
       "std     NaN   5.354126        NaN           NaN  1.01653\n",
       "min     NaN  12.000000        NaN           NaN  6.50000\n",
       "25%     NaN  19.500000        NaN           NaN  7.02500\n",
       "50%     NaN  22.500000        NaN           NaN  7.50000\n",
       "75%     NaN  23.000000        NaN           NaN  8.07500\n",
       "max     NaN  23.000000        NaN           NaN  8.90000"
      ]
     },
     "execution_count": 203,
     "metadata": {},
     "output_type": "execute_result"
    }
   ],
   "source": [
    "D1.describe(include='all')"
   ]
  },
  {
   "cell_type": "code",
   "execution_count": 202,
   "id": "aa9c1d42",
   "metadata": {},
   "outputs": [
    {
     "data": {
      "text/html": [
       "<div>\n",
       "<style scoped>\n",
       "    .dataframe tbody tr th:only-of-type {\n",
       "        vertical-align: middle;\n",
       "    }\n",
       "\n",
       "    .dataframe tbody tr th {\n",
       "        vertical-align: top;\n",
       "    }\n",
       "\n",
       "    .dataframe thead th {\n",
       "        text-align: right;\n",
       "    }\n",
       "</style>\n",
       "<table border=\"1\" class=\"dataframe\">\n",
       "  <thead>\n",
       "    <tr style=\"text-align: right;\">\n",
       "      <th></th>\n",
       "      <th>0</th>\n",
       "    </tr>\n",
       "  </thead>\n",
       "  <tbody>\n",
       "    <tr>\n",
       "      <th>count</th>\n",
       "      <td>3</td>\n",
       "    </tr>\n",
       "    <tr>\n",
       "      <th>mean</th>\n",
       "      <td>2006-09-01 08:00:00</td>\n",
       "    </tr>\n",
       "    <tr>\n",
       "      <th>min</th>\n",
       "      <td>2000-01-01 00:00:00</td>\n",
       "    </tr>\n",
       "    <tr>\n",
       "      <th>25%</th>\n",
       "      <td>2004-12-31 12:00:00</td>\n",
       "    </tr>\n",
       "    <tr>\n",
       "      <th>50%</th>\n",
       "      <td>2010-01-01 00:00:00</td>\n",
       "    </tr>\n",
       "    <tr>\n",
       "      <th>75%</th>\n",
       "      <td>2010-01-01 00:00:00</td>\n",
       "    </tr>\n",
       "    <tr>\n",
       "      <th>max</th>\n",
       "      <td>2010-01-01 00:00:00</td>\n",
       "    </tr>\n",
       "  </tbody>\n",
       "</table>\n",
       "</div>"
      ],
      "text/plain": [
       "                         0\n",
       "count                    3\n",
       "mean   2006-09-01 08:00:00\n",
       "min    2000-01-01 00:00:00\n",
       "25%    2004-12-31 12:00:00\n",
       "50%    2010-01-01 00:00:00\n",
       "75%    2010-01-01 00:00:00\n",
       "max    2010-01-01 00:00:00"
      ]
     },
     "execution_count": 202,
     "metadata": {},
     "output_type": "execute_result"
    }
   ],
   "source": [
    "s = pd.DataFrame([\n",
    "    np.datetime64(\"2000-01-01\"),\n",
    "    np.datetime64(\"2010-01-01\"),\n",
    "    np.datetime64(\"2010-01-01\")\n",
    "])\n",
    "s.describe()"
   ]
  },
  {
   "cell_type": "code",
   "execution_count": 238,
   "id": "b11452c5",
   "metadata": {},
   "outputs": [
    {
     "name": "stdout",
     "output_type": "stream",
     "text": [
      "    Name  Age       City Qualification  SGPA\n",
      "0    Ram   23  Allahabad        B.tech   8.9\n",
      "1   Anil   23     Kanpur        B.tech   7.2\n",
      "2  Balam   22   Mirzapur           MCA   6.5\n",
      "3    kid   12        NCR     4th Grade   7.8\n",
      "---------------------------------------------\n"
     ]
    },
    {
     "data": {
      "text/html": [
       "<div>\n",
       "<style scoped>\n",
       "    .dataframe tbody tr th:only-of-type {\n",
       "        vertical-align: middle;\n",
       "    }\n",
       "\n",
       "    .dataframe tbody tr th {\n",
       "        vertical-align: top;\n",
       "    }\n",
       "\n",
       "    .dataframe thead th {\n",
       "        text-align: right;\n",
       "    }\n",
       "</style>\n",
       "<table border=\"1\" class=\"dataframe\">\n",
       "  <thead>\n",
       "    <tr style=\"text-align: right;\">\n",
       "      <th></th>\n",
       "      <th>Name</th>\n",
       "      <th>Age</th>\n",
       "      <th>City</th>\n",
       "      <th>Qualification</th>\n",
       "      <th>SGPA</th>\n",
       "    </tr>\n",
       "  </thead>\n",
       "  <tbody>\n",
       "    <tr>\n",
       "      <th>1</th>\n",
       "      <td>Anil</td>\n",
       "      <td>23</td>\n",
       "      <td>Kanpur</td>\n",
       "      <td>B.tech</td>\n",
       "      <td>7.2</td>\n",
       "    </tr>\n",
       "    <tr>\n",
       "      <th>0</th>\n",
       "      <td>Ram</td>\n",
       "      <td>23</td>\n",
       "      <td>Allahabad</td>\n",
       "      <td>B.tech</td>\n",
       "      <td>8.9</td>\n",
       "    </tr>\n",
       "    <tr>\n",
       "      <th>3</th>\n",
       "      <td>kid</td>\n",
       "      <td>12</td>\n",
       "      <td>NCR</td>\n",
       "      <td>4th Grade</td>\n",
       "      <td>7.8</td>\n",
       "    </tr>\n",
       "    <tr>\n",
       "      <th>2</th>\n",
       "      <td>Balam</td>\n",
       "      <td>22</td>\n",
       "      <td>Mirzapur</td>\n",
       "      <td>MCA</td>\n",
       "      <td>6.5</td>\n",
       "    </tr>\n",
       "  </tbody>\n",
       "</table>\n",
       "</div>"
      ],
      "text/plain": [
       "    Name  Age       City Qualification  SGPA\n",
       "1   Anil   23     Kanpur        B.tech   7.2\n",
       "0    Ram   23  Allahabad        B.tech   8.9\n",
       "3    kid   12        NCR     4th Grade   7.8\n",
       "2  Balam   22   Mirzapur           MCA   6.5"
      ]
     },
     "execution_count": 238,
     "metadata": {},
     "output_type": "execute_result"
    }
   ],
   "source": [
    "\n",
    "print(D1)\n",
    "print(\"-\"*45)\n",
    "ls=[1,2,3,4]\n",
    "D1.reindex([1,0,3,2])"
   ]
  },
  {
   "cell_type": "code",
   "execution_count": 245,
   "id": "6ec0e273",
   "metadata": {},
   "outputs": [
    {
     "data": {
      "text/html": [
       "<div>\n",
       "<style scoped>\n",
       "    .dataframe tbody tr th:only-of-type {\n",
       "        vertical-align: middle;\n",
       "    }\n",
       "\n",
       "    .dataframe tbody tr th {\n",
       "        vertical-align: top;\n",
       "    }\n",
       "\n",
       "    .dataframe thead th {\n",
       "        text-align: right;\n",
       "    }\n",
       "</style>\n",
       "<table border=\"1\" class=\"dataframe\">\n",
       "  <thead>\n",
       "    <tr style=\"text-align: right;\">\n",
       "      <th></th>\n",
       "      <th>Name</th>\n",
       "      <th>Age</th>\n",
       "      <th>Sheher</th>\n",
       "      <th>Qualification</th>\n",
       "      <th>SGPA</th>\n",
       "    </tr>\n",
       "  </thead>\n",
       "  <tbody>\n",
       "    <tr>\n",
       "      <th>a</th>\n",
       "      <td>Ram</td>\n",
       "      <td>23</td>\n",
       "      <td>Allahabad</td>\n",
       "      <td>B.tech</td>\n",
       "      <td>8.9</td>\n",
       "    </tr>\n",
       "    <tr>\n",
       "      <th>b</th>\n",
       "      <td>Anil</td>\n",
       "      <td>23</td>\n",
       "      <td>Kanpur</td>\n",
       "      <td>B.tech</td>\n",
       "      <td>7.2</td>\n",
       "    </tr>\n",
       "    <tr>\n",
       "      <th>2</th>\n",
       "      <td>Balam</td>\n",
       "      <td>22</td>\n",
       "      <td>Mirzapur</td>\n",
       "      <td>MCA</td>\n",
       "      <td>6.5</td>\n",
       "    </tr>\n",
       "    <tr>\n",
       "      <th>3</th>\n",
       "      <td>kid</td>\n",
       "      <td>12</td>\n",
       "      <td>NCR</td>\n",
       "      <td>4th Grade</td>\n",
       "      <td>7.8</td>\n",
       "    </tr>\n",
       "  </tbody>\n",
       "</table>\n",
       "</div>"
      ],
      "text/plain": [
       "    Name  Age     Sheher Qualification  SGPA\n",
       "a    Ram   23  Allahabad        B.tech   8.9\n",
       "b   Anil   23     Kanpur        B.tech   7.2\n",
       "2  Balam   22   Mirzapur           MCA   6.5\n",
       "3    kid   12        NCR     4th Grade   7.8"
      ]
     },
     "execution_count": 245,
     "metadata": {},
     "output_type": "execute_result"
    }
   ],
   "source": [
    "D1.rename(columns={'City':'Sheher'},index={0:'a',1:'b'})"
   ]
  },
  {
   "cell_type": "code",
   "execution_count": 273,
   "id": "1df29655",
   "metadata": {},
   "outputs": [
    {
     "data": {
      "text/html": [
       "<div>\n",
       "<style scoped>\n",
       "    .dataframe tbody tr th:only-of-type {\n",
       "        vertical-align: middle;\n",
       "    }\n",
       "\n",
       "    .dataframe tbody tr th {\n",
       "        vertical-align: top;\n",
       "    }\n",
       "\n",
       "    .dataframe thead th {\n",
       "        text-align: right;\n",
       "    }\n",
       "</style>\n",
       "<table border=\"1\" class=\"dataframe\">\n",
       "  <thead>\n",
       "    <tr style=\"text-align: right;\">\n",
       "      <th></th>\n",
       "      <th>Name</th>\n",
       "      <th>Age</th>\n",
       "      <th>City</th>\n",
       "      <th>Qualification</th>\n",
       "      <th>SGPA</th>\n",
       "      <th>age</th>\n",
       "    </tr>\n",
       "  </thead>\n",
       "  <tbody>\n",
       "    <tr>\n",
       "      <th>2</th>\n",
       "      <td>Balam</td>\n",
       "      <td>12</td>\n",
       "      <td>Mirzapur</td>\n",
       "      <td>MCA</td>\n",
       "      <td>6.5</td>\n",
       "      <td>12.0</td>\n",
       "    </tr>\n",
       "    <tr>\n",
       "      <th>1</th>\n",
       "      <td>Anil</td>\n",
       "      <td>23</td>\n",
       "      <td>Kanpur</td>\n",
       "      <td>B.tech</td>\n",
       "      <td>7.2</td>\n",
       "      <td>NaN</td>\n",
       "    </tr>\n",
       "    <tr>\n",
       "      <th>3</th>\n",
       "      <td>kid</td>\n",
       "      <td>12</td>\n",
       "      <td>NCR</td>\n",
       "      <td>4th Grade</td>\n",
       "      <td>7.8</td>\n",
       "      <td>NaN</td>\n",
       "    </tr>\n",
       "    <tr>\n",
       "      <th>0</th>\n",
       "      <td>Ram</td>\n",
       "      <td>23</td>\n",
       "      <td>Allahabad</td>\n",
       "      <td>B.tech</td>\n",
       "      <td>8.9</td>\n",
       "      <td>NaN</td>\n",
       "    </tr>\n",
       "  </tbody>\n",
       "</table>\n",
       "</div>"
      ],
      "text/plain": [
       "    Name  Age       City Qualification  SGPA   age\n",
       "2  Balam   12   Mirzapur           MCA   6.5  12.0\n",
       "1   Anil   23     Kanpur        B.tech   7.2   NaN\n",
       "3    kid   12        NCR     4th Grade   7.8   NaN\n",
       "0    Ram   23  Allahabad        B.tech   8.9   NaN"
      ]
     },
     "execution_count": 273,
     "metadata": {},
     "output_type": "execute_result"
    }
   ],
   "source": [
    "D1.sort_values(by=['SGPA','Age'],axis=0,ascending=True,kind='stable')"
   ]
  },
  {
   "cell_type": "markdown",
   "id": "a8d839a7",
   "metadata": {},
   "source": [
    "# UPDATE values in data frame"
   ]
  },
  {
   "cell_type": "code",
   "execution_count": 277,
   "id": "850073af",
   "metadata": {},
   "outputs": [
    {
     "data": {
      "text/html": [
       "<div>\n",
       "<style scoped>\n",
       "    .dataframe tbody tr th:only-of-type {\n",
       "        vertical-align: middle;\n",
       "    }\n",
       "\n",
       "    .dataframe tbody tr th {\n",
       "        vertical-align: top;\n",
       "    }\n",
       "\n",
       "    .dataframe thead th {\n",
       "        text-align: right;\n",
       "    }\n",
       "</style>\n",
       "<table border=\"1\" class=\"dataframe\">\n",
       "  <thead>\n",
       "    <tr style=\"text-align: right;\">\n",
       "      <th></th>\n",
       "      <th>Name</th>\n",
       "      <th>Age</th>\n",
       "      <th>City</th>\n",
       "      <th>Qualification</th>\n",
       "      <th>SGPA</th>\n",
       "    </tr>\n",
       "  </thead>\n",
       "  <tbody>\n",
       "    <tr>\n",
       "      <th>0</th>\n",
       "      <td>Ram</td>\n",
       "      <td>23</td>\n",
       "      <td>Allahabad</td>\n",
       "      <td>B.tech</td>\n",
       "      <td>8.9</td>\n",
       "    </tr>\n",
       "    <tr>\n",
       "      <th>1</th>\n",
       "      <td>Anil</td>\n",
       "      <td>23</td>\n",
       "      <td>Kanpur</td>\n",
       "      <td>B.tech</td>\n",
       "      <td>7.2</td>\n",
       "    </tr>\n",
       "    <tr>\n",
       "      <th>2</th>\n",
       "      <td>Balam</td>\n",
       "      <td>12</td>\n",
       "      <td>Mirzapur</td>\n",
       "      <td>MCA</td>\n",
       "      <td>6.5</td>\n",
       "    </tr>\n",
       "    <tr>\n",
       "      <th>3</th>\n",
       "      <td>kid</td>\n",
       "      <td>12</td>\n",
       "      <td>NCR</td>\n",
       "      <td>4th Grade</td>\n",
       "      <td>7.8</td>\n",
       "    </tr>\n",
       "  </tbody>\n",
       "</table>\n",
       "</div>"
      ],
      "text/plain": [
       "    Name  Age       City Qualification  SGPA\n",
       "0    Ram   23  Allahabad        B.tech   8.9\n",
       "1   Anil   23     Kanpur        B.tech   7.2\n",
       "2  Balam   12   Mirzapur           MCA   6.5\n",
       "3    kid   12        NCR     4th Grade   7.8"
      ]
     },
     "execution_count": 277,
     "metadata": {},
     "output_type": "execute_result"
    }
   ],
   "source": [
    "D1.loc[D1['City']=='Mirzapur','Age']=12\n",
    "D1"
   ]
  },
  {
   "cell_type": "code",
   "execution_count": 302,
   "id": "0f251077",
   "metadata": {},
   "outputs": [],
   "source": [
    "grp=D1.groupby('Qualification')"
   ]
  },
  {
   "cell_type": "code",
   "execution_count": 313,
   "id": "0a3c8d33",
   "metadata": {},
   "outputs": [
    {
     "data": {
      "text/html": [
       "<div>\n",
       "<style scoped>\n",
       "    .dataframe tbody tr th:only-of-type {\n",
       "        vertical-align: middle;\n",
       "    }\n",
       "\n",
       "    .dataframe tbody tr th {\n",
       "        vertical-align: top;\n",
       "    }\n",
       "\n",
       "    .dataframe thead th {\n",
       "        text-align: right;\n",
       "    }\n",
       "</style>\n",
       "<table border=\"1\" class=\"dataframe\">\n",
       "  <thead>\n",
       "    <tr style=\"text-align: right;\">\n",
       "      <th></th>\n",
       "      <th>sum</th>\n",
       "      <th>mean</th>\n",
       "      <th>min</th>\n",
       "    </tr>\n",
       "    <tr>\n",
       "      <th>Qualification</th>\n",
       "      <th></th>\n",
       "      <th></th>\n",
       "      <th></th>\n",
       "    </tr>\n",
       "  </thead>\n",
       "  <tbody>\n",
       "    <tr>\n",
       "      <th>4th Grade</th>\n",
       "      <td>7.8</td>\n",
       "      <td>7.80</td>\n",
       "      <td>7.8</td>\n",
       "    </tr>\n",
       "    <tr>\n",
       "      <th>B.tech</th>\n",
       "      <td>16.1</td>\n",
       "      <td>8.05</td>\n",
       "      <td>7.2</td>\n",
       "    </tr>\n",
       "    <tr>\n",
       "      <th>MCA</th>\n",
       "      <td>6.5</td>\n",
       "      <td>6.50</td>\n",
       "      <td>6.5</td>\n",
       "    </tr>\n",
       "  </tbody>\n",
       "</table>\n",
       "</div>"
      ],
      "text/plain": [
       "                sum  mean  min\n",
       "Qualification                 \n",
       "4th Grade       7.8  7.80  7.8\n",
       "B.tech         16.1  8.05  7.2\n",
       "MCA             6.5  6.50  6.5"
      ]
     },
     "execution_count": 313,
     "metadata": {},
     "output_type": "execute_result"
    }
   ],
   "source": [
    "grp['SGPA'].agg(['sum',\"mean\",'min'])"
   ]
  },
  {
   "cell_type": "markdown",
   "id": "2612b15f",
   "metadata": {},
   "source": [
    "# READING EXTERNAL CSV FILE"
   ]
  },
  {
   "cell_type": "code",
   "execution_count": null,
   "id": "ec023553",
   "metadata": {},
   "outputs": [],
   "source": [
    "df=pd.read_csv(\"\")"
   ]
  }
 ],
 "metadata": {
  "kernelspec": {
   "display_name": "Python 3 (ipykernel)",
   "language": "python",
   "name": "python3"
  },
  "language_info": {
   "codemirror_mode": {
    "name": "ipython",
    "version": 3
   },
   "file_extension": ".py",
   "mimetype": "text/x-python",
   "name": "python",
   "nbconvert_exporter": "python",
   "pygments_lexer": "ipython3",
   "version": "3.11.7"
  }
 },
 "nbformat": 4,
 "nbformat_minor": 5
}
